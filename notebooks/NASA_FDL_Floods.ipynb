{
 "cells": [
  {
   "cell_type": "markdown",
   "metadata": {},
   "source": [
    "## NASA Frontier Development Lab - Disaster Prevention, Progress and Response (Floods)"
   ]
  },
  {
   "cell_type": "markdown",
   "metadata": {},
   "source": [
    "Floods are one of the most dangerous natural disasters worldwide. All regions can be affected by flooding events and, with the increased variability in weather patterns due to global warming, this issue is likely to become even more prelevant. The speed at which flooding events can occur, and difficulties in predicting their occurrance, create huge logistic problems for both governmental and non-governmental agencies. Over the past 10 years, floods have caused on average 95 deaths a year in the US alone, making them the deadliest weather related phenomenon. Worldwide, floods cost in excess of 40 Billion dollars per year, impacting property, agriculture and the health of individuals.\n",
    "\n",
    "Throughout the duration of the project, we collaborated with United States Geological Survey (USGS), a scientific agency within the US Department of the Interior. The objective of this organization is to study the landscape of the US and provide information about its natural resources and the natural hazards that affect them. Currently, hydrologists use physical models to help predict floods. These models require predictions to be carefully calibrated for each stream or watershed and careful consideration must be taken for dams, levees etc. Producing these models is extremely costly due to resource requirements. This limits the areas within the US that can avail of such systems to better prepare for flood events.\n",
    "\n",
    "To predict the flood susceptibility of a stream area, the project is separated into two distinct problems.\n",
    "\n",
    "**Monthly Model**\n",
    "\n",
    "Predicting, per month, if a stream height will reach a predefined flood threshold. These flood thresholds are set by the National Oceanic and Atmospheric Administration (NOAA) and are location specific. Knowing which areas are susceptible to flooding may allow locations to better prepare for a flood event.\n",
    "\n",
    "**Time to Peak Model**\n",
    "\n",
    "Predicting the time taken for a stream/river to reach it's peak height. Following the occurrence of a major rain event, knowing how long it will take for a river to reach this height is vital in order to inform potentially affected individuals if and when they need to evacuate. This can help to reduce structural damage and loss of life during a disaster."
   ]
  },
  {
   "cell_type": "markdown",
   "metadata": {},
   "source": [
    "## The Data"
   ]
  },
  {
   "cell_type": "markdown",
   "metadata": {},
   "source": [
    "This project focused on 6 US states over a period of 10 years. Data is sourced from ~900 gauge sites, between July 2009 and June 2019. Not all gauge sites had continuous historical data over the period, but all the available data for each site is utilized.\n",
    "\n",
    "The 6 states were:\n",
    "\n",
    "    -New Jersey\n",
    "    -Nebraska\n",
    "    -South Carolina\n",
    "    -New York\n",
    "    -South Dakota\n",
    "    -Virginia\n",
    "    \n",
    "A primary reason for choosing these states, is that each exhibits similar climate and landscape. Focusing on similar geographies from a machine learning perspective ensures that the models produced could be generalized to similar regions and given assumed reduced variability in conditions, models that are likely to be more precise.\n",
    "\n",
    "### Required datasets and providers:\n",
    "\n",
    "**USGS**\n",
    "\n",
    "The dataset provided by USGS is their Surface Water dataset. This consists of the height of a stream as measured by gauges for over 11,000 sites in the US. The data is updated every 15 minutes, with some locations having historical data for over 50 years. \n",
    "\n",
    "**PRISM**\n",
    "\n",
    "The PRISM Climate Group provides climate observations across the whole of the US. This dataset is used to extract daily precipitation readings from the site locations for each day during the requested 10 year period.\n",
    "\n",
    "**National Land Cover Database (NLCD)**\n",
    "\n",
    "The NLCD database collected by the Landsat Satellite provides information such as land-use classification (urban, agriculture, forest, etc.), how well the land allows water to pass through it (impervious surface information) and tree cover. This dataset contains records updated every 5 years from 2006.\n",
    "\n",
    "**National Hydrology Dataset Plus (NHDPlus)**\n",
    "\n",
    "NHDPlus is a geo-spatial hydrologic framework dataset associated with USGS. The features used from this dataset are the catchment and drainage area characteristics at the stream site locations. \n",
    "\n",
    "**Flooded Locations And Simulated Hydrographs Project (FLASH)**\n",
    "\n",
    "FLASH is a database containing information about flood events within the US. The information extracted from this dataset is the time taken for a river to reach its peak height after a major rain event.\n",
    "\n",
    "**NOAA**\n",
    "\n",
    "NOAA is a US governmental agency for monitoring and preserving the climate and environment. The data provided by NOAA relates to flood level thresholds for locations across the US. These thresholds consist of four warning stages and the river height for a given location that causes them to reach these levels. The four warning stages are:"
   ]
  },
  {
   "cell_type": "markdown",
   "metadata": {},
   "source": [
    "|Warning |  Meaning                                                                                     |\n",
    "|--------|-------                                                                                     |\n",
    "|Action  |\tMitigation action needs to be taken in order to prepare for possible hydrological activity|\n",
    "|Flood\t |  The river height poses a threat to lives, property and businesses|\n",
    "|Moderate| \tSome inundation of roads or buildings. A flood warning should be released|\n",
    "|Major\t |  Extensive inundation of roads and buildings. Considerable evacuations of areas may occur|\n",
    "\n",
    "\n",
    "A more indepth discussion on these datasources can be found within the whitepaper corresponding to this notebook."
   ]
  },
  {
   "cell_type": "markdown",
   "metadata": {},
   "source": [
    "### Downloading the data"
   ]
  },
  {
   "cell_type": "markdown",
   "metadata": {},
   "source": [
    "As some of the required datasets are particularly large, they are not contained within the data directory of this github repo. The README file associated with this notebook contains information explaining how to download all the required datasets."
   ]
  },
  {
   "cell_type": "markdown",
   "metadata": {},
   "source": [
    "## Load Required Libraries and Python Functionality"
   ]
  },
  {
   "cell_type": "markdown",
   "metadata": {},
   "source": [
    "#### Load relevant Python functionality\n"
   ]
  },
  {
   "cell_type": "markdown",
   "metadata": {},
   "source": [
    " - Data manipulation functions\n",
    " - Plotting functionality\n",
    " - Scoring functionality and machine learning models"
   ]
  },
  {
   "cell_type": "code",
   "execution_count": 1,
   "metadata": {},
   "outputs": [],
   "source": [
    "// Load embedPy to allow access to python functionality\n",
    "\\l p.q\n",
    "\n",
    "np:.p.import[`numpy]\n",
    "gp :.p.import[`geopandas]\n",
    "train_test_split:.p.import[`sklearn.model_selection]`:train_test_split\n",
    "\n",
    "plt:.p.import[`matplotlib.pyplot]\n",
    "\n",
    "precision_recall_curve :.p.import[`sklearn.metrics]`:precision_recall_curve\n",
    "average_precision_score:.p.import[`sklearn.metrics]`:average_precision_score\n",
    "RandomForestClassifier :.p.import[`sklearn.ensemble]`:RandomForestClassifier\n",
    "XGBClassifier          :.p.import[`xgboost]`:XGBClassifier"
   ]
  },
  {
   "cell_type": "markdown",
   "metadata": {},
   "source": [
    "#### Load relevant libraries and scripts"
   ]
  },
  {
   "cell_type": "markdown",
   "metadata": {},
   "source": [
    " - Load the machine learning toolkit\n",
    " - Load flood data and associated code"
   ]
  },
  {
   "cell_type": "code",
   "execution_count": 2,
   "metadata": {},
   "outputs": [
    {
     "name": "stderr",
     "output_type": "stream",
     "text": [
      "sys:1: FutureWarning: The 'get_values' method is deprecated and will be removed in a future version. Use '.to_numpy()' or '.array' instead.\n"
     ]
    }
   ],
   "source": [
    "\\l ml/ml.q \n",
    ".ml.loadfile`:init.q\n",
    "\n",
    "\\l ../floods.q\n",
    ".fld.loadfile`:init.q"
   ]
  },
  {
   "cell_type": "markdown",
   "metadata": {},
   "source": [
    "## Data Preprocessing\n",
    "\n",
    "Due to the variety of data sources and datasets used, preprocessing the data is of critical importance. This step ensured that feature engineering completed later in the pipeline is more seamless. "
   ]
  },
  {
   "cell_type": "code",
   "execution_count": 3,
   "metadata": {},
   "outputs": [],
   "source": [
    "// Utility functions\n",
    "\n",
    "del:{![x;enlist (=;y;z);0b;`symbol$()]} / Functional delete\n",
    "conv7_fn:{`$$[7=count x;\"0\",;]x}        / Prepend sites with 7 numbers with a 0"
   ]
  },
  {
   "cell_type": "markdown",
   "metadata": {},
   "source": [
    "The following are the operations taken on the data at this stage:\n",
    "\n",
    "1. Any stream-site names containing less than 8 values is prepended with 0's to ensure consist lengths. Rows containing nulls or infinities are removed from the datasets as these cannot be passed to machine learning algorithms.\n",
    "2. A column denoting the index of each location in the NOAA threshold dataset is added, this is used for nearest neighbours calculations later in this notebook"
   ]
  },
  {
   "cell_type": "code",
   "execution_count": 4,
   "metadata": {},
   "outputs": [],
   "source": [
    "precip:del[precipall;`ppt;0n]\n",
    "maxht:update conv7_fn each site_no from del[max_ht_str;`height;neg[0w]]\n",
    "\n",
    "warning:update nn:i from warnings"
   ]
  },
  {
   "cell_type": "markdown",
   "metadata": {},
   "source": [
    "3. Add a column indicating for a given record which of the NLCD datasets is to be joined to the dataset.\n",
    "    - The precipitation dataset is binned into the years, 2006, 2011 and 2016.\n",
    "    - This binned information is added to the precipitation dataset"
   ]
  },
  {
   "cell_type": "code",
   "execution_count": 5,
   "metadata": {},
   "outputs": [],
   "source": [
    "nlcdyear:{$[x<2011;6;x<2016;11;16]}each `year$precip[`date]\n",
    "\n",
    "precip:update year:nlcdyear from precip"
   ]
  },
  {
   "cell_type": "markdown",
   "metadata": {},
   "source": [
    "## Feature Engineering"
   ]
  },
  {
   "cell_type": "markdown",
   "metadata": {},
   "source": [
    "Given the available data, it is possible to split the information into three distinct datasets\n",
    "\n",
    "1. Ungauged basin: Information available at sites that do not contain stream gauge or future forecasting information. This data is limited to land use, past rainfall and upstream information.\n",
    "\n",
    "\n",
    "2. Gauged basin: This dataset incorporates all information contained within the ungauged basin dataset, in addition to this it also contains stream gauge information. The stream gauge information includes previous river heights and lagged/aggregated flooding information.\n",
    "\n",
    "\n",
    "3. Perfect Forecasts: This dataset includes all information contained within the gauged basin dataset. In addition, it includes rainfall information around the time of an event."
   ]
  },
  {
   "cell_type": "markdown",
   "metadata": {},
   "source": [
    "### Seasonality information and data restrictions"
   ]
  },
  {
   "cell_type": "markdown",
   "metadata": {},
   "source": [
    "Seasonal Information plays an important role when predicting if an area will flood and how long this will take. \n",
    "\n",
    " - This seasonality is captured by extracting the month that an event occurred, followed by a sine and cosine transformations of the month, creating columns named `sin_t` and `cos_t` respectively. \n",
    " - The latitude and longitude of the stream sites are also represented by various sine and cosine decompositions of their coordinates."
   ]
  },
  {
   "cell_type": "code",
   "execution_count": 6,
   "metadata": {},
   "outputs": [],
   "source": [
    "pi:acos -1\n",
    "\n",
    "precip:`date xasc update month:`mm$date from precip\n",
    "precip:update cos_t:cos 2*pi*month%12,sin_t:sin 2*pi*month%12 from precip\n",
    "\n",
    "precip:update x:cos(lat)*cos(long),y:cos(lat)*sin(long),z:sin(lat) from precip"
   ]
  },
  {
   "cell_type": "markdown",
   "metadata": {},
   "source": [
    "###  Upstream, previous, windowed, and lagged features\n",
    "\n",
    "Some of the most important information which can be extracted from the dataset include:\n",
    "\n",
    "1. Upstream features (for example rainfall and stream/river height) which may provide early warnings for high volumes of water moving down-stream\n",
    "2. Previous rainfall and stream/river height at a location up to a number of days before the event.\n",
    "3. Windowed historical information which gives macro information about the system, this can include the maximum moving average rainfall in a location over a given time period for example .\n",
    "4. Lagged features which provide historical information about the behaviour of the system (in this case an individual site).\n",
    "\n",
    "For ease of implementation, the creation of these features within this white paper are wrapped within the macro function `addFeat`."
   ]
  },
  {
   "cell_type": "markdown",
   "metadata": {},
   "source": [
    "For clarity the following are the inputs to the functions `addFeat`:\n",
    "\n",
    "**addFeat [x ; y ; z ; col ; d; fnc]**\n",
    "\n",
    "- `x`    table that's being updated\n",
    "- `y`    how many values to calculate (integer list)\n",
    "- `z`    column to apply the function to (symbol)\n",
    "- `col`  new column name (symbol)\n",
    "- `d`    dictionary of where, groupby and type of functional statement being used\n",
    "- `fnc`  function to be applied to the grouped column\n"
   ]
  },
  {
   "cell_type": "code",
   "execution_count": 7,
   "metadata": {},
   "outputs": [],
   "source": [
    "colname:{enlist`$string[y],\"_\",string[x],\"_\",string[z]} // Create new column name\n",
    "max_mavg:{(max;(mavg;y;x))}                             // Calculate maximal moving average\n",
    "prv:{(xprev;y;x)}                                       // Calculate value of lagged features\n",
    "\n",
    "// Applies functions to appropriate columns and rename columns appropriately\n",
    "applyFunc:{[x;y;z;b]raze{[x;y;z;b]colname[x;y;z]!enlist b[x;z]}[z;y;;b]each raze x}\n",
    "\n",
    "// upstream, previous, windowed and lagged extraction function\n",
    "addFeat:{[x;y;z;col;d;fnc] d[`w][x;d`wh;d`gr;$[1<count[z];raze;]applyFunc[y;col;;fnc]each z]}"
   ]
  },
  {
   "cell_type": "markdown",
   "metadata": {},
   "source": [
    "#### Upstream Values"
   ]
  },
  {
   "cell_type": "markdown",
   "metadata": {},
   "source": [
    "Using the `addFeat` function, upstream information can be obtained. This is possible as the id numbers for each site consist of the initial two digits which denote the basin catchment. The remaining digits are ascending values based on the location of gauges along the stream. A functional update is applied to the tables, grouping by basin catchments and date. This enables the upstream precipitation and height values to be extracted."
   ]
  },
  {
   "cell_type": "code",
   "execution_count": 8,
   "metadata": {},
   "outputs": [],
   "source": [
    "catch_site:((';#);2;($:;`site_no))           /Grouping site numbers by catchment, using the first 2 digits\n",
    "site_date :`site_no`date!(catch_site;`date)\n",
    "dict:`w`wh`gr!(!;();site_date)\n",
    "\n",
    "upstr_ppt   :addFeat[precip;1;`ppt;`upstr;dict;prv]\n",
    "upstr_height:addFeat[maxht;1;`height;`upstr;dict;prv]"
   ]
  },
  {
   "cell_type": "markdown",
   "metadata": {},
   "source": [
    "#### Previous rainfall and stream height\n",
    "\n",
    "The `addFeat` function is also used to find the rainfall and heights for both the current and upstream locations for the 10 days prior to an event. This is achieved by grouping the tables by site number, allowing the previous precipitation and height values to be obtained. "
   ]
  },
  {
   "cell_type": "code",
   "execution_count": 9,
   "metadata": {},
   "outputs": [],
   "source": [
    "dict[`gr]:site:(enlist `site_no)!enlist `site_no\n",
    "\n",
    "prev_rain:addFeat[upstr_ppt;enlist 1_til 10;`ppt`upstr_ppt_1;`prev;sited:dict;prv]\n",
    "all_height:addFeat[upstr_height;enlist 1_til 10;`height`upstr_height_1;`prev;dict;prv]"
   ]
  },
  {
   "cell_type": "markdown",
   "metadata": {},
   "source": [
    "### Use-case specific features\n",
    "\n",
    "All of the features calculated above are applicable in each of the use-cases, however both the monthly and time-to-peak models also require more bespoke features to be calculated"
   ]
  },
  {
   "cell_type": "markdown",
   "metadata": {},
   "source": [
    "### Monthly Model\n",
    "\n",
    "The following steps are completed to extract additional features for the monthly model\n",
    "\n",
    "1. The maximal moving average rainfall is extracted at current and previous upstream sites over different time windows prior to the date in question(1 - 15 day windows). This is achieved by grouping the data by month and site number, and applying the `addFeat` function, denoting the size of the windows being applied"
   ]
  },
  {
   "cell_type": "code",
   "execution_count": 10,
   "metadata": {},
   "outputs": [],
   "source": [
    "dict[`gr]:(`date`site_no)!(($;enlist`month;`date);`site_no)\n",
    "\n",
    "all_rain:addFeat[prev_rain;enlist 1_til 15;`ppt`upstr_ppt_1;`window;dict;max_mavg]"
   ]
  },
  {
   "cell_type": "markdown",
   "metadata": {},
   "source": [
    "2. The first day of each month is selected as the point of reference for the monthly data, this allows for all  information from the previous month to be incorporated."
   ]
  },
  {
   "cell_type": "code",
   "execution_count": 11,
   "metadata": {},
   "outputs": [],
   "source": [
    "height_data:update date:\"m\"$date from select from all_height where 1=`dd$date\n",
    "rain_data  :update date:\"m\"$date from select from all_rain   where 1=`dd$date"
   ]
  },
  {
   "cell_type": "markdown",
   "metadata": {},
   "source": [
    "3. The height and rain data are joined for each site and date to create an initial monthly dataset"
   ]
  },
  {
   "cell_type": "code",
   "execution_count": 12,
   "metadata": {},
   "outputs": [],
   "source": [
    "monthly_data:height_data ij`site_no`date xkey rain_data"
   ]
  },
  {
   "cell_type": "markdown",
   "metadata": {},
   "source": [
    "### Time to Peak Model\n",
    "\n",
    "The hours leading up to a flash flood event can provide important information regarding how quickly the height of a stream is moving. This information can be incredibly important in allowing for prediction of the time it will take for the stream to reach its peak height.\n",
    "\n",
    "For construction of the time to peak models, the following steps are taken to produce appropriate features:"
   ]
  },
  {
   "cell_type": "markdown",
   "metadata": {},
   "source": [
    "1. The FLASH dataset (`peak`) is joined to the daily height and rain datasets produced previously"
   ]
  },
  {
   "cell_type": "code",
   "execution_count": 13,
   "metadata": {},
   "outputs": [],
   "source": [
    "peak_data:(peak ij`date`site_no xkey prev_rain)ij`date`site_no xkey all_height"
   ]
  },
  {
   "cell_type": "markdown",
   "metadata": {},
   "source": [
    "2. The temporal information within the FLASH dataset is converted from UTC such that all times are consistent with the USGS stream data."
   ]
  },
  {
   "cell_type": "code",
   "execution_count": 14,
   "metadata": {},
   "outputs": [],
   "source": [
    "// The date associated with each site \n",
    "site_date:flip value flip 0!select date by distinct site_no from peak_data\n",
    "\n",
    "// The timezone (unk) information for each site is obtained from the gauges hdb (str)\n",
    "time_zone:raze{\n",
    "  dd:x[1];si:x[0];\n",
    "  select `$first site_no,`$first unk from str where date=first dd,si=`$site_no}each site_date\n",
    "\n",
    "// The time-zone information is joined to the peak dataset\n",
    "peak_data:peak_data ij`site_no xkey time_zone\n",
    "\n",
    "// Define a function to modify the time-zone based on extracted information from gauges hdb\n",
    "change_zone:{tz:x[1];tm:x[0];$[tz=`EDT;tm-04:00;tz=`CDT;tm-05:00;tm-06:00]}\n",
    "\n",
    "// A time zone change is applied to the relevant time columns in dataset\n",
    "peak_data[`start_time]:change_zone each flip peak_data`start_time`unk\n",
    "peak_data[`end_time]  :change_zone each flip peak_data`end_time`unk\n",
    "peak_data[`peak_time] :change_zone each flip peak_data`peak_time`unk"
   ]
  },
  {
   "cell_type": "markdown",
   "metadata": {},
   "source": [
    "3. The date column is updated to account for changes in date arising as a result of the conversion from UTC"
   ]
  },
  {
   "cell_type": "code",
   "execution_count": 15,
   "metadata": {},
   "outputs": [],
   "source": [
    "peak_data[`date]:`date$peak_data`start_time"
   ]
  },
  {
   "cell_type": "markdown",
   "metadata": {},
   "source": [
    "4. Maximal moving averages for windows of time up to 2 days prior to the event are extracted:\n",
    "\n",
    "    - Functions are produced in order to extract the appropriate date range from the dataset, indicate the where clause to be applied, and create a dictionary to be pased to the `addFeat` function\n",
    "    - Maximal moving average precipitation over 2, 4, 8, 12 and 48 hour windows are taken for two days prior to an event.\n",
    "    - The newly created features are added to the dataset and infinities are removed"
   ]
  },
  {
   "cell_type": "code",
   "execution_count": 16,
   "metadata": {},
   "outputs": [],
   "source": [
    "// The date range of interest \n",
    "range:{(within;x;(,;(+;(-:;2);y);y))}\n",
    "// The where clause to be applied \n",
    "wh:{(range[`date;x[1]];range[`datetime;x[2]];(=;enlist x[0];($;enlist`;`site_no)))}\n",
    "// Dictionary to be passed to the addFeat function\n",
    "dict:{`w`wh`gr!(?;wh x;0b)}\n",
    "\n",
    "window_ht_prev:{addFeat[str;enlist 2 4 12 48;`height;`window_prev;dict x;max_mavg]\n",
    "  }each flip peak_data[`site_no`date`start_time]\n",
    "\n",
    "peak_data:peak_data,'raze window_ht_prev\n",
    "peak_data:del[peak_data;`window_prev_height_2;neg[0w]]"
   ]
  },
  {
   "cell_type": "markdown",
   "metadata": {},
   "source": [
    "5. Information is extracted relating to projected rainfall for the next 3 days:\n",
    "\n",
    "    - A function defining the where clause is created, along with the dictionary to be passed to the `addFeat` function.\n",
    "    - Rainfall information for the 3 days following an event of interest is then extracted.\n",
    "    - These derived features are incorporated into the dataset"
   ]
  },
  {
   "cell_type": "code",
   "execution_count": 17,
   "metadata": {},
   "outputs": [],
   "source": [
    "wh:{((within;`date;(,;y[1];(+;y[1];x)));(=;enlist y[0];`site_no))}\n",
    "dict:{`w`wh`gr!(?;wh[x;y];0b)}\n",
    "\n",
    "rain_pred:{addFeat[all_rain;enlist 1_til x;`ppt`upstr_ppt_1;`fut_window;dict[x;y];max_mavg]\n",
    "  }[3]each flip peak_data[`site_no`date]\n",
    "\n",
    "peak_data:peak_data,'raze rain_pred"
   ]
  },
  {
   "cell_type": "markdown",
   "metadata": {},
   "source": [
    "A mapping of the extracted features and the datasets with which they are associated, is as follows\n",
    "\n",
    "|Feature  |Associated Dataset |\n",
    "|---------|-------------------|\n",
    "|previous rainfall|ungauged, gauged, perfect forecasts|\n",
    "|previous height|gauged, perfect forecasts|\n",
    "|moving precip averages per month| perfect forecasts|\n",
    "|previous windowed height| gauged,perfect forecasts|\n",
    "|predicted precip rain for time to peak| perfect forecasts|\n"
   ]
  },
  {
   "cell_type": "markdown",
   "metadata": {},
   "source": [
    "## Target Data"
   ]
  },
  {
   "cell_type": "markdown",
   "metadata": {},
   "source": [
    "### Monthly Models"
   ]
  },
  {
   "cell_type": "markdown",
   "metadata": {},
   "source": [
    "The target chosen for the monthly model task is extracted from the NOAA flood warning dataset. The target itself indicates if for a given month a flood stage warning is issued, thus the model which is to be produced must be a binary classifier. The flood warnings are split into 4 stages,\n",
    "\n",
    "1. Action\n",
    "2. Flood\n",
    "3. Moderate\n",
    "4. Major\n",
    "\n",
    "In order to ensure that a sufficient number of positive targets are present within the data, the 'flood' level was chosen as major events are less common.\n",
    "\n",
    "Given that the sites at which NOAA flood warnings are calculated and the location of gauge sites are not necessarily coincident, the latitude and longitude of the sites are used to complete a nearest neighbours join of the datasets, thus making a consistent dataset.\n",
    "\n",
    "The steps taken to create the appropriate targets are as follows:"
   ]
  },
  {
   "cell_type": "markdown",
   "metadata": {},
   "source": [
    "1. A nearest neighbours search is completed to map NOAA locations to stream sites based on latitude and longitude values :\n",
    "\n",
    "    - A list denoted by `wlatl` is created, this indicates the latitudes and longitudes of the NOAA warning locations and gauge sites respectively\n",
    "    - A nearest neighbours algorithm based on a kd-tree is used to extract the closest NOAA warning location to each gauge site.\n",
    "    - A keyed table indicating the nearest NOAA warning location to each gauge site is produced"
   ]
  },
  {
   "cell_type": "code",
   "execution_count": 18,
   "metadata": {},
   "outputs": [],
   "source": [
    "wlatl:raze each warning[`Latitude`Longitude],'gauges[`dec_lat_va`dec_long_va]\n",
    "\n",
    "tabw:kd.buildtree[wlatl;2]\n",
    "gauge_val:count[warning]+til count gauges\n",
    "nnwarn:kd.nns[;tabw;(count[warning]#0),count[gauges]#1;flip wlatl;`edist]each gauge_val\n",
    "\n",
    "joins:([site_no:gauges`site_no]nn:nnwarn[;0];ndw:nnwarn[;1])"
   ]
  },
  {
   "cell_type": "markdown",
   "metadata": {},
   "source": [
    "2. The maximum height dataset `maxht` defined during the execution of the load script is joined to the flood warnings table."
   ]
  },
  {
   "cell_type": "code",
   "execution_count": 19,
   "metadata": {},
   "outputs": [],
   "source": [
    "floodlvl:(maxht ij joins)lj`nn xkey warning\n",
    "\n",
    "floodlvl[`Action`Moderate`Flood`Major]:\"F\"$'floodlvl[`Action`Moderate`Flood`Major]"
   ]
  },
  {
   "cell_type": "markdown",
   "metadata": {},
   "source": [
    "3. A table indicating the number of times a stream has reached each flood warning level is created. This is done by comparing the streams height to the heights provided by NOAA which denote each of the warning levels."
   ]
  },
  {
   "cell_type": "code",
   "execution_count": 20,
   "metadata": {},
   "outputs": [
    {
     "data": {
      "text/plain": [
       "site_no  date    Action Flood Moderate Major no_Action no_Flood no_Mod no_Major\n",
       "-------------------------------------------------------------------------------\n",
       "01303500 2009.07 9.8    10.1  11.1     13.1  0         0        0      0       \n",
       "01303500 2009.08 9.8    10.1  11.1     13.1  0         0        0      0       \n",
       "01303500 2009.09 9.8    10.1  11.1     13.1  0         0        0      0       \n",
       "01303500 2009.10 9.8    10.1  11.1     13.1  0         0        0      0       \n",
       "01303500 2009.11 9.8    10.1  11.1     13.1  0         0        0      0       \n",
       "01303500 2009.12 9.8    10.1  11.1     13.1  0         0        0      0       \n",
       "01303500 2010.01 9.8    10.1  11.1     13.1  0         0        0      0       \n",
       "01303500 2010.02 9.8    10.1  11.1     13.1  0         0        0      0       \n",
       "01303500 2010.03 9.8    10.1  11.1     13.1  0         0        0      0       \n",
       "01303500 2010.04 9.8    10.1  11.1     13.1  0         0        0      0       \n"
      ]
     },
     "execution_count": 20,
     "metadata": {},
     "output_type": "execute_result"
    }
   ],
   "source": [
    "10#threshold:0!select \n",
    "                first Action,first Flood,first Moderate,first Major,\n",
    "                no_Action:count where height>Action,no_Flood:count where height>Flood,\n",
    "                no_Mod:count where height>Moderate,no_Major:count where height>Major \n",
    "                by site_no,\"m\"$date from floodlvl"
   ]
  },
  {
   "cell_type": "markdown",
   "metadata": {},
   "source": [
    "4. Filter out any sites that indicate 28 days of flooding in a month occurred. This is done based on a desire to prioritise events which are not commonplace.\n",
    "\n",
    "5. Create a binary classification target indicating if a flood warning level is reached\n"
   ]
  },
  {
   "cell_type": "code",
   "execution_count": 21,
   "metadata": {},
   "outputs": [],
   "source": [
    "threshold:select from threshold where no_Flood<28\n",
    "\n",
    "threshold[`target]:threshold[`no_Flood]>0"
   ]
  },
  {
   "cell_type": "markdown",
   "metadata": {},
   "source": [
    "### Time to Peak Model\n",
    "\n",
    "To produce a target for the time to peak model the FLASH dataset is used. This dataset provides information pertaining to how long it will take a gauge location to reach it's peak height following a major rainfall event. To get this information and create a machine learning task the following steps are taken:\n",
    "\n",
    "1. The start time of an event is subtracted from the time that the stream reached it's peak height, this is then converted to the number of hours elapsed.\n",
    "2. A binary classification task is produced by setting a 3.5 hour time difference between a rainfall event and peak stream height as the threshold for an event of interest. This time definition was set based on discussion with hydrologists at USGS."
   ]
  },
  {
   "cell_type": "code",
   "execution_count": 22,
   "metadata": {},
   "outputs": [],
   "source": [
    "peak_data[`delta_peak]:(peak_data[`peak_time]-peak_data[`start_time])*24\n",
    "\n",
    "peak_data[`target]:peak_data[`delta_peak]<3.5"
   ]
  },
  {
   "cell_type": "markdown",
   "metadata": {},
   "source": [
    "## Addition of final features\n",
    "\n",
    "### Addition of the characteristics tables \n",
    "\n",
    "1. The basin characteristics and NLCD landcover datasets are joined to produce a stream characteristics (`stream_char`) table. This provides information about the geography near to site locations. \n",
    "\n",
    "2. This table is then joined to the peak and monthly datasets based on site number to create `all_peak_data` and `monthly_stream_data` tables.\n",
    "\n",
    "3. The threshold information is then joined to the monthly data by site number and date to allow for the addition of lagged flood information in the next section."
   ]
  },
  {
   "cell_type": "code",
   "execution_count": 23,
   "metadata": {},
   "outputs": [],
   "source": [
    "stream_char:nlcd ij`site_no xkey basin\n",
    "\n",
    "all_peak_data:peak_data ij`site_no`year xkey stream_char\n",
    "monthly_stream_data:monthly_data ij`site_no`year xkey stream_char\n",
    "\n",
    "all_monthly_data:monthly_stream_data ij`site_no`date xkey threshold"
   ]
  },
  {
   "cell_type": "markdown",
   "metadata": {},
   "source": [
    "### Lagged features"
   ]
  },
  {
   "cell_type": "markdown",
   "metadata": {},
   "source": [
    "For the monthly model, historic lagged information is added to the dataset:\n",
    " 1. The `addFeat` function is used to extract information pertaining to whether a specific site has flooded in the last month or at the same time the year prior. \n",
    " 2. The number of times per month the flood warning level is reached at each site location is also extracted to produce the `tgts` table. \n",
    " 3. This information can then used to obtain a moving average for target data such that the `lagged_target_all` column is produced."
   ]
  },
  {
   "cell_type": "code",
   "execution_count": 24,
   "metadata": {
    "scrolled": true
   },
   "outputs": [],
   "source": [
    "all_monthly_data:addFeat[all_monthly_data;enlist 1 12;`target;`lagged;sited;prv]\n",
    "\n",
    "tgts:value exec no_Flood by site_no from all_monthly_data\n",
    "\n",
    "all_monthly_data[`lagged_target_all]:raze{count[x]mavg raze x}each tgts"
   ]
  },
  {
   "cell_type": "markdown",
   "metadata": {},
   "source": [
    "The above features are included in both the gauged and perfect forecasts datasets."
   ]
  },
  {
   "cell_type": "markdown",
   "metadata": {},
   "source": [
    "## Train-Test Split\n",
    "\n",
    "### Preparation\n",
    "\n",
    "Prior to the application of a train test split on the data, rows containing null values are removed from the dataset as these cannot be passed to machine learning algorithms."
   ]
  },
  {
   "cell_type": "code",
   "execution_count": 25,
   "metadata": {},
   "outputs": [],
   "source": [
    "del_null:{where not any each null x}          // Find rows containing null data\n",
    "\n",
    "cleaned_monthly:all_monthly_data[del_null all_monthly_data]\n",
    "cleaned_peak:   all_peak_data[del_null all_peak_data]"
   ]
  },
  {
   "cell_type": "markdown",
   "metadata": {},
   "source": [
    "The appropriate feature columns for the monthly and time to peak models are extracted for each of the three datasets outlined earlier in the notebook:\n",
    "\n",
    "1. Ungauged\n",
    "2. Gauged\n",
    "3. Perfect Forecasts\n",
    "\n",
    "\n",
    "The feature columns to be included for each of these datasets mentioned earlier are mentioned in `columns_to_include.q` under the following headings:\n",
    "\n",
    "1. ungauged_cols\n",
    "2. gauged_cols\n",
    "3. perfect_forecast_cols\n",
    "\n",
    "These columns omit any information which would be considered 'leakage' including target columns or any columns from which the target could be derived.\n",
    "\n",
    "The columns for monthly (M) and time to peak (P) examples for each dataset are extracted using the `fnd_col` function as shown below."
   ]
  },
  {
   "cell_type": "code",
   "execution_count": 26,
   "metadata": {},
   "outputs": [
    {
     "name": "stdout",
     "output_type": "stream",
     "text": [
      "M| `month`cos_t`sin_t`elv`imp`CatAreaSqKm`WsAreaSqKm`CatAreaSqKmRp100`WsAreaS..\n",
      "P| `month`cos_t`sin_t`elv`imp`CatAreaSqKm`WsAreaSqKm`CatAreaSqKmRp100`WsAreaS..\n"
     ]
    }
   ],
   "source": [
    "fnd_col:{x where x in y}\n",
    "\n",
    "ungauged_colsM:         fnd_col[ungauged_cols;cols cleaned_monthly]\n",
    "gauged_colsM:           fnd_col[gauged_cols;cols cleaned_monthly]\n",
    "perfect_forecast_colsM: fnd_col[perfect_forecast_cols;cols cleaned_monthly]\n",
    "\n",
    "ungauged_colsP:         fnd_col[ungauged_cols;cols cleaned_peak]\n",
    "gauged_colsP:           fnd_col[gauged_cols;cols cleaned_peak]\n",
    "perfect_forecast_colsP: fnd_col[perfect_forecast_cols;cols cleaned_peak]"
   ]
  },
  {
   "cell_type": "markdown",
   "metadata": {},
   "source": [
    "The following cell outlines a framework by which the appropriate datasets can be extracted for each of the monthly and time to peak tasks\n",
    "\n",
    "1. Dictionaries containing the appropriate datasets for each task are defined\n",
    "2. The function `split_dict` is created which takes a table and `M`/`P` as input and returns the appropriate data as a matrix"
   ]
  },
  {
   "cell_type": "code",
   "execution_count": 27,
   "metadata": {},
   "outputs": [],
   "source": [
    "show ungauge: `M`P!(ungauged_colsM;ungauged_colsP)\n",
    "gauge:   `M`P!(ungauge[`M],gauged_colsM;ungauge[`P],gauged_colsP)\n",
    "forecast:`M`P!(gauge[`M],perfect_forecast_colsM;gauge[`P],perfect_forecast_colsP)\n",
    "\n",
    "split_dict:{(!). flip(\n",
    "  (`ungauged;flip x[ungauge[y]]);\n",
    "  (`gauged;flip x[gauge[y]]);\n",
    "  (`forecast;flip x[forecast[y]]))}"
   ]
  },
  {
   "cell_type": "markdown",
   "metadata": {},
   "source": [
    "### Monthly Model"
   ]
  },
  {
   "cell_type": "markdown",
   "metadata": {},
   "source": [
    "When splitting the data for this model, it was decided that no time leakage should occur between the training and test sets (e.g. the training set contained information from 2009 to 2017, while the test set contained the remaining years).\n",
    "\n",
    "This ensures that the models are tested in a scenario similar to how they would be used in the real world .i.e training on currently available information and testing on new information as it becomes available. \n",
    "\n",
    "The training set contains 80% of the data while the testing set consists of the remaining 20%. The `split_dict` function defined previously is used to produce the training data."
   ]
  },
  {
   "cell_type": "code",
   "execution_count": 28,
   "metadata": {},
   "outputs": [
    {
     "name": "stdout",
     "output_type": "stream",
     "text": [
      "ungauged| 6i  -1f          1.224647e-16  59f   25.99038    2.2941  72.4599  0..\n",
      "gauged  | 6i  -1f          1.224647e-16  59f   25.99038    2.2941  72.4599  0..\n",
      "forecast| 6i  -1f          1.224647e-16  59f   25.99038    2.2941  72.4599  0..\n"
     ]
    }
   ],
   "source": [
    "// The cutoff dataset is produced and date defined at which the datasets are to be cutoff\n",
    "cutoff:update cutoff_date:min[date]+floor 0.8*max[date]-min[date] by site_no from cleaned_monthly\n",
    "\n",
    "// Data and targets from the dataset are extracted\n",
    "XtrainMi:select from cutoff where date<cutoff_date\n",
    "XtestMi :select from cutoff where date>=cutoff_date\n",
    "ytrainM :exec target from cutoff where date<cutoff_date\n",
    "ytestM  :exec target from cutoff where date>=cutoff_date\n",
    "\n",
    "// From the master training and testing datasets the appropriate information for the monthly data are extracted\n",
    "XtrainM:split_dict[XtrainMi;`M]\n",
    "show XtestM:split_dict[XtestMi;`M]"
   ]
  },
  {
   "cell_type": "markdown",
   "metadata": {},
   "source": [
    "### Time to Peak Model\n",
    "\n",
    "The following histogram displays sites which produced a flash flood event within the range of each bin. This highlights the uneven distribution of targets across sites and thus explains the need for a more complex data splitting methodology."
   ]
  },
  {
   "cell_type": "code",
   "execution_count": 29,
   "metadata": {},
   "outputs": [
    {
     "data": {
      "image/png": "[encoded data removed]",
      "text/plain": [
       "<Figure size 460.8x345.6 with 1 Axes>"
      ]
     },
     "metadata": {},
     "output_type": "display_data"
    }
   ],
   "source": [
    "sites:0!select sum target by site_no from cleaned_peak\n",
    "plt[`:hist][sites`target];\n",
    "plt[`:xlabel][\"Number of events per site\"];\n",
    "plt[`:ylabel][\"Number of associated sites\"];\n",
    "plt[`:show][];"
   ]
  },
  {
   "cell_type": "markdown",
   "metadata": {},
   "source": [
    "The splitting of this dataset is slightly more involved. In order to test generalization to new areas the data is split such that sites cannot appear in both the training and testing sets. In addition to this, given the uneven distribution of events in each site the data is stratified such that the training and testing sets contain sites which have similar levels of flood activity."
   ]
  },
  {
   "cell_type": "code",
   "execution_count": 30,
   "metadata": {},
   "outputs": [],
   "source": [
    "// The number of events associated with each bin of the dataset is set\n",
    "bins:0 5 15 25.0\n",
    "\n",
    "// The target data is split into the associated bin\n",
    "y_binned:bins bin`float$sites`target\n",
    "\n",
    "// Using embedPy, site numbers and targets are stratified into an 80-20 train-test split of the data\n",
    "tts:train_test_split[sites[`site_no];sites[`target];`test_size pykw 0.2; `random_state pykw 607;\n",
    "    `shuffle pykw 1b;`stratify pykw y_binned]`;\n",
    "\n",
    "// The cleaned_peak data is updated such that a flag indicating training/testing is added\n",
    "cleaned_peak[`split]:`TRAIN\n",
    "peak_split:update split:`TEST from cleaned_peak where site_no in`$tts[1]"
   ]
  },
  {
   "cell_type": "markdown",
   "metadata": {},
   "source": [
    "As in the Monthly model, the `split_dict` function is used to appropriately split the dataset"
   ]
  },
  {
   "cell_type": "code",
   "execution_count": 31,
   "metadata": {},
   "outputs": [
    {
     "name": "stdout",
     "output_type": "stream",
     "text": [
      "ungauged| 7i  -0.8660254   -0.5          246f  12.16933   4.0455  47.2707  0...\n",
      "gauged  | 7i  -0.8660254   -0.5          246f  12.16933   4.0455  47.2707  0...\n",
      "forecast| 7i  -0.8660254   -0.5          246f  12.16933   4.0455  47.2707  0...\n"
     ]
    }
   ],
   "source": [
    "XtrainPi:select from peak_split where split=`TRAIN\n",
    "ytrainP:exec target from peak_split where split=`TRAIN\n",
    "XtestPi:select from  peak_split where split=`TEST\n",
    "ytestP:exec target from peak_split where split=`TEST\n",
    "\n",
    "XtrainP:split_dict[XtrainPi;`P]\n",
    "show XtestP:split_dict[XtestPi;`P]"
   ]
  },
  {
   "cell_type": "markdown",
   "metadata": {},
   "source": [
    "## Model Building and Evaluation"
   ]
  },
  {
   "cell_type": "markdown",
   "metadata": {},
   "source": [
    "Thoughout the course of this work a wide variety of models were tested including Neural Networks, however for the sake of this notebook, only models and results from an eXtreme Gradient Boost (XGBoost) and random forest classifier are presented. These models were chosen due to their ability to deal with complex, imbalanced datasets. A more indepth discussion of these models can also be found in the associated whitepaper.\n",
    "\n",
    "The following cell outlines a function used to fit both a Random-Forest classifier and XGBoost model. This function returns a fitted model for each algorithm."
   ]
  },
  {
   "cell_type": "code",
   "execution_count": 32,
   "metadata": {},
   "outputs": [],
   "source": [
    "build_model:{[Xtrain;ytrain;dict]\n",
    " rf_hyp_nms:`n_estimators`random_state`class_weight;\n",
    " rf_hyp_vals:(dict`rf_n;0;(0 1)!(1;dict`rf_wgt));\n",
    " rf_clf:RandomForestClassifier[pykwargs rf_hyp_nms!rf_hyp_vals][`:fit][Xtrain; ytrain];\n",
    "\n",
    " xgb_hyp_nms:`n_estimators`learning_rate`random_state`scale_pos_weight`max_depth;\n",
    " xgb_hyp_vals:(dict`xgb_n;dict`xgb_lr;0;dict`xgb_wgt;dict`xgb_maxd);\n",
    " xgb_clf: XGBClassifier[pykwargs xgb_hyp_nms!xgb_hyp_vals][`:fit][np[`:array]Xtrain; ytrain];\n",
    " \n",
    " `random_forest`XGB!(rf_clf;xgb_clf)}"
   ]
  },
  {
   "cell_type": "markdown",
   "metadata": {},
   "source": [
    "These models are used in the results section below in conjunction with the function `pr_curve` to test their performance on the training set. This function is used both to visulaize the results in the form of a precision-recall curve and also to provide important model evaluation metrics.\n",
    "\n",
    "**pr_curve[ xtest ; ytest ; dict ]**\n",
    "\n",
    "* `xtest` = matrix of feature values\n",
    "* `ytest` = list of targets \n",
    "* `dict`  = dictionary of fitted models produced by `build_model` above\n",
    "\n",
    "The output information from this function is as follows\n",
    "\n",
    "1. Overall accuracy of the model \n",
    "2. Mean-Class accuracy which is a 'fairer' accuracy metric\n",
    "3. Classification report outlining overall and class based precision, recall and f1-score\n",
    "4. The precision-recall curves for each model and the area under the curve associated with each "
   ]
  },
  {
   "cell_type": "markdown",
   "metadata": {},
   "source": [
    "## Results"
   ]
  },
  {
   "cell_type": "markdown",
   "metadata": {},
   "source": [
    "The scores and graphics in the results below are separated based on the three datasets created and sub divided into the monthly and time to peak models.\n",
    "\n",
    "Following display of the graphics and scores, a summary of the results for each section are provided."
   ]
  },
  {
   "cell_type": "markdown",
   "metadata": {},
   "source": [
    "### Ungauged Prediction "
   ]
  },
  {
   "cell_type": "markdown",
   "metadata": {},
   "source": [
    "#### Monthly Model"
   ]
  },
  {
   "cell_type": "code",
   "execution_count": 33,
   "metadata": {},
   "outputs": [
    {
     "name": "stdout",
     "output_type": "stream",
     "text": [
      "\n",
      "Accuracy for random_forest: 0.9380757\n",
      "\n",
      "\n",
      "Meanclass accuracy for random_forest: 0.8382345\n",
      "\n",
      "\n",
      "class    | precision recall    f1_score  support\n",
      "---------| -------------------------------------\n",
      "0        | 0.9424622 0.9939699 0.967531  13101  \n",
      "1        | 0.7340067 0.2152024 0.3328244 1013   \n",
      "avg/total| 0.8382345 0.6045861 0.6501777 14114  \n",
      "\n",
      "Accuracy for XGB: 0.9197959\n",
      "\n",
      "\n",
      "Meanclass accuracy for XGB: 0.69065\n",
      "\n",
      "\n",
      "class    | precision recall    f1_score  support\n",
      "---------| -------------------------------------\n",
      "0        | 0.9512177 0.9629799 0.9570627 13101  \n",
      "1        | 0.4300823 0.3613031 0.3927039 1013   \n",
      "avg/total| 0.69065   0.6621415 0.6748833 14114  \n"
     ]
    },
    {
     "data": {
      "image/png": "[encoded data removed]",
      "text/plain": [
       "<Figure size 460.8x345.6 with 1 Axes>"
      ]
     },
     "metadata": {},
     "output_type": "display_data"
    }
   ],
   "source": [
    "dict:`rf_n`rf_wgt`rf_maxd`xgb_n`xgb_lr`xgb_wgt`xgb_maxd!(200;1;8;200;.2;15;7)\n",
    "\n",
    "models:build_model[XtrainM`ungauged;ytrainM;dict]\n",
    "\n",
    "pltU1:pr_curve[XtestM`ungauged;ytestM;models]"
   ]
  },
  {
   "cell_type": "markdown",
   "metadata": {},
   "source": [
    "#### Time to Peak Model"
   ]
  },
  {
   "cell_type": "code",
   "execution_count": 34,
   "metadata": {
    "scrolled": false
   },
   "outputs": [
    {
     "name": "stdout",
     "output_type": "stream",
     "text": [
      "\n",
      "Accuracy for random_forest: 0.7330896\n",
      "\n",
      "\n",
      "Meanclass accuracy for random_forest: 0.7312101\n",
      "\n",
      "\n",
      "class    | precision recall    f1_score  support\n",
      "---------| -------------------------------------\n",
      "0        | 0.7336066 0.9572193 0.8306265 374    \n",
      "1        | 0.7288136 0.2485549 0.3706897 173    \n",
      "avg/total| 0.7312101 0.6028871 0.6006581 547    \n",
      "\n",
      "Accuracy for XGB: 0.7751371\n",
      "\n",
      "\n",
      "Meanclass accuracy for XGB: 0.7474176\n",
      "\n",
      "\n",
      "class    | precision recall    f1_score  support\n",
      "---------| -------------------------------------\n",
      "0        | 0.7995227 0.8957219 0.8448928 374    \n",
      "1        | 0.6953125 0.5144509 0.5913621 173    \n",
      "avg/total| 0.7474176 0.7050864 0.7181275 547    \n"
     ]
    },
    {
     "data": {
      "image/png": "[encoded data removed]",
      "text/plain": [
       "<Figure size 460.8x345.6 with 1 Axes>"
      ]
     },
     "metadata": {},
     "output_type": "display_data"
    }
   ],
   "source": [
    "dict:`rf_n`rf_wgt`rf_maxd`xgb_n`xgb_lr`xgb_wgt`xgb_maxd!(220;1;17;340;.01;1.5;3)\n",
    "\n",
    "models:build_model[XtrainP`ungauged;ytrainP;dict]\n",
    "\n",
    "pltU2 :pr_curve[XtestP`ungauged;ytestP;models]"
   ]
  },
  {
   "cell_type": "markdown",
   "metadata": {},
   "source": [
    "### Gauged Prediction"
   ]
  },
  {
   "cell_type": "markdown",
   "metadata": {},
   "source": [
    "#### Monthly Model"
   ]
  },
  {
   "cell_type": "code",
   "execution_count": 35,
   "metadata": {},
   "outputs": [
    {
     "name": "stdout",
     "output_type": "stream",
     "text": [
      "\n",
      "Accuracy for random_forest: 0.9422559\n",
      "\n",
      "\n",
      "Meanclass accuracy for random_forest: 0.9000509\n",
      "\n",
      "\n",
      "class    | precision recall    f1_score  support\n",
      "---------| -------------------------------------\n",
      "0        | 0.9439867 0.9969468 0.9697442 13101  \n",
      "1        | 0.8561151 0.2349457 0.3687064 1013   \n",
      "avg/total| 0.9000509 0.6159463 0.6692253 14114  \n",
      "\n",
      "Accuracy for XGB: 0.9332578\n",
      "\n",
      "\n",
      "Meanclass accuracy for XGB: 0.7507384\n",
      "\n",
      "\n",
      "class    | precision recall    f1_score  support\n",
      "---------| -------------------------------------\n",
      "0        | 0.9559055 0.9729792 0.9643668 13101  \n",
      "1        | 0.5455712 0.4195459 0.4743304 1013   \n",
      "avg/total| 0.7507384 0.6962625 0.7193486 14114  \n"
     ]
    },
    {
     "data": {
      "image/png": "[encoded data removed]",
      "text/plain": [
       "<Figure size 460.8x345.6 with 1 Axes>"
      ]
     },
     "metadata": {},
     "output_type": "display_data"
    }
   ],
   "source": [
    "dict:`rf_n`rf_wgt`rf_maxd`xgb_n`xgb_lr`xgb_wgt`xgb_maxd!(100;16;8;100;0.2;16;9)\n",
    "\n",
    "models:build_model[XtrainM`gauged;ytrainM;dict]\n",
    "\n",
    "pltG1:pr_curve[XtestM`gauged;ytestM;models]"
   ]
  },
  {
   "cell_type": "markdown",
   "metadata": {},
   "source": [
    "#### Time to Peak Model"
   ]
  },
  {
   "cell_type": "code",
   "execution_count": 36,
   "metadata": {},
   "outputs": [
    {
     "name": "stdout",
     "output_type": "stream",
     "text": [
      "\n",
      "Accuracy for random_forest: 0.7367459\n",
      "\n",
      "\n",
      "Meanclass accuracy for random_forest: 0.763421\n",
      "\n",
      "\n",
      "class    | precision recall    f1_score  support\n",
      "---------| -------------------------------------\n",
      "0        | 0.7309237 0.973262  0.8348624 374    \n",
      "1        | 0.7959184 0.2254335 0.3513514 173    \n",
      "avg/total| 0.763421  0.5993478 0.5931069 547    \n",
      "\n",
      "Accuracy for XGB: 0.7842779\n",
      "\n",
      "\n",
      "Meanclass accuracy for XGB: 0.7650789\n",
      "\n",
      "\n",
      "class    | precision recall    f1_score  support\n",
      "---------| -------------------------------------\n",
      "0        | 0.7990654 0.9144385 0.8528678 374    \n",
      "1        | 0.7310924 0.5028902 0.5958904 173    \n",
      "avg/total| 0.7650789 0.7086643 0.7243791 547    \n"
     ]
    },
    {
     "data": {
      "image/png": "[encoded data removed]",
      "text/plain": [
       "<Figure size 460.8x345.6 with 1 Axes>"
      ]
     },
     "metadata": {},
     "output_type": "display_data"
    }
   ],
   "source": [
    "dict:`rf_n`rf_wgt`rf_maxd`xgb_n`xgb_lr`xgb_wgt`xgb_maxd!(100;1;17;350;0.01;1.5;3)\n",
    "\n",
    "models:build_model[XtrainP`gauged;ytrainP;dict]\n",
    "\n",
    "pltG2 :pr_curve[XtestP`gauged;ytestP;models]"
   ]
  },
  {
   "cell_type": "markdown",
   "metadata": {},
   "source": [
    "### Perfect Forecast"
   ]
  },
  {
   "cell_type": "markdown",
   "metadata": {},
   "source": [
    "#### Monthly Model"
   ]
  },
  {
   "cell_type": "code",
   "execution_count": 37,
   "metadata": {},
   "outputs": [
    {
     "name": "stdout",
     "output_type": "stream",
     "text": [
      "\n",
      "Accuracy for random_forest: 0.9448066\n",
      "\n",
      "\n",
      "Meanclass accuracy for random_forest: 0.9130627\n",
      "\n",
      "\n",
      "class    | precision recall    f1_score  support\n",
      "---------| -------------------------------------\n",
      "0        | 0.9462553 0.9971758 0.9710484 13101  \n",
      "1        | 0.8798701 0.2675222 0.4102952 1013   \n",
      "avg/total| 0.9130627 0.632349  0.6906718 14114  \n",
      "\n",
      "Accuracy for XGB: 0.9471447\n",
      "\n",
      "\n",
      "Meanclass accuracy for XGB: 0.8045102\n",
      "\n",
      "\n",
      "class    | precision recall    f1_score  support\n",
      "---------| -------------------------------------\n",
      "0        | 0.9695219 0.9736661 0.9715896 13101  \n",
      "1        | 0.6394984 0.6041461 0.6213198 1013   \n",
      "avg/total| 0.8045102 0.7889061 0.7964547 14114  \n"
     ]
    },
    {
     "data": {
      "image/png": "[encoded data removed]",
      "text/plain": [
       "<Figure size 460.8x345.6 with 1 Axes>"
      ]
     },
     "metadata": {},
     "output_type": "display_data"
    }
   ],
   "source": [
    "dict:`rf_n`rf_wgt`xgb_n`xgb_lr`xgb_wgt`xgb_maxd!(100;15;100;0.2;15;7)\n",
    "\n",
    "models:build_model[XtrainM`forecast;ytrainM;dict]\n",
    "\n",
    "pltP1:pr_curve[XtestM`forecast;ytestM;models]"
   ]
  },
  {
   "cell_type": "markdown",
   "metadata": {},
   "source": [
    "#### Time to Peak Model"
   ]
  },
  {
   "cell_type": "code",
   "execution_count": 38,
   "metadata": {
    "scrolled": false
   },
   "outputs": [
    {
     "name": "stdout",
     "output_type": "stream",
     "text": [
      "\n",
      "Accuracy for random_forest: 0.7550274\n",
      "\n",
      "\n",
      "Meanclass accuracy for random_forest: 0.7668274\n",
      "\n",
      "\n",
      "class    | precision recall    f1_score support\n",
      "---------| ------------------------------------\n",
      "0        | 0.751046  0.959893  0.842723 374    \n",
      "1        | 0.7826087 0.3121387 0.446281 173    \n",
      "avg/total| 0.7668274 0.6360159 0.644502 547    \n",
      "\n",
      "Accuracy for XGB: 0.7440585\n",
      "\n",
      "\n",
      "Meanclass accuracy for XGB: 0.7027966\n",
      "\n",
      "\n",
      "class    | precision recall    f1_score  support\n",
      "---------| -------------------------------------\n",
      "0        | 0.8031088 0.828877  0.8157895 374    \n",
      "1        | 0.6024845 0.5606936 0.5808383 173    \n",
      "avg/total| 0.7027966 0.6947853 0.6983139 547    \n"
     ]
    },
    {
     "data": {
      "image/png": "[encoded data removed]",
      "text/plain": [
       "<Figure size 460.8x345.6 with 1 Axes>"
      ]
     },
     "metadata": {},
     "output_type": "display_data"
    }
   ],
   "source": [
    "dict:`rf_n`rf_wgt`rf_maxd`xgb_n`xgb_lr`xgb_wgt`xgb_maxd!(100;1;17;300;0.01;2.5;3)\n",
    "\n",
    "models:build_model[XtrainP`forecast;ytrainP;dict]\n",
    "\n",
    "pltP2 :pr_curve[XtestP`forecast;ytestP;models]"
   ]
  },
  {
   "cell_type": "markdown",
   "metadata": {},
   "source": [
    "### Scoring Summary"
   ]
  },
  {
   "cell_type": "markdown",
   "metadata": {},
   "source": [
    "**Ungauged Models**\n",
    "\n",
    "*Monthly*\n",
    "\n",
    "The accuracies of both classifiers in the monthly model were relatively high in this case. Random forests achieved a slightly higher score of 0.938. The meanclass accuracy was lower for both classifiers, ranging from ~0.7-0.84 in the random forests and XGBoost respectively. However, considering that the class distribution was extremely imbalanced, the accuracy is an unreliable metric to evaluate the models fairly. Both classifiers returned low precision and recall scores when evaluating the positive class, indicating that the models were not adept at discerning flood events. Low scores of ~0.4 were also seen in the precision-recall curves for both classifiers.\n",
    "\n",
    "*Time to Peak*\n",
    "\n",
    "XGBoosts achieved both a higher accuracy of 0.78 and a more stable precision recall ratio, 0.7 to 0.51, for the positive class when compared with random forests. This indicates that a relatively large amount of flood events occuring under the 3.5 hour threshold were being identified by the model. The meanclass accuracies for both classifiers were similar at ~0.75. The area under the precision-recall curve were also seen to be comparable for both classifiers.\n",
    "\n",
    "**Gauged Models**\n",
    "\n",
    "*Monthly*\n",
    "\n",
    "Improvements in both the accuracy and meanclass accuracy were evident in the gauged models when compared to the ungauged example. In this case, higher accuracies were achieved by the random forest classifier. The meanclass accuracy also performed better at 0.9 when compared with the XGBoost classifier result of 0.75. Although still low, a slightly improved balance between the precision and recall scores, 0.54 to 0.42, for the positive class was reached by the XGBoost. The area under the precision-recall curve improved in both classifiers to 0.51 (XGBoost) and 0.54 (random forests) from the previous ungauged model.\n",
    "\n",
    "*Time to Peak*\n",
    "\n",
    "The accuracy and meanclass accuracy achieved with the gauged datasets were very similar to the results obtained in the ungauged model. This in conjunction with similarities to the precision and recall scores indicates that the addition of previous stream/river heights does not impact the models. The areas under with the precision-recall curves however, were also similar when compared with the previous models curves.\n",
    "\n",
    "**Perfect Forecast Models**\n",
    "\n",
    "*Monthly*\n",
    "\n",
    "Similar accuracy results were seen between the random forests and XGBoost with results on the order of 0.945. The random forest classifier achieved a greater meanclass accuracy score of 0.91 compared with that of XGBoosts 0.8. Precision and recall scores for the positive class were also high at ~0.62 for both metrics. However the random forest classifier produced a high imbalance between the precision and recall scores which were 0.88 and 0.27 respectively. Both precision-recall curves improved from the previous gauged model, achieving areas of 0.69 and 0.64 for XGBoost and the random forest classifier respectively.\n",
    "\n",
    "*Time to Peak*\n",
    "\n",
    "A slight decrease in accuracy occured in both classifiers compared with previous models, although an improved  balance between the precision and recall scores of 0.6 and 0.56 were seen for the XGBoost. The area under the precision-recall curves increased slightly when compared to the the previous models results, reaching scores of 0.65 for the XGBoost and and 0.62 for the random forests classifiers."
   ]
  },
  {
   "cell_type": "markdown",
   "metadata": {},
   "source": [
    "### Feature Significance"
   ]
  },
  {
   "cell_type": "markdown",
   "metadata": {},
   "source": [
    "There is also a lot to be learned from determining which features contribute to predicting the target for a model. Such analysis could allow organizations to prioritise the information which is taken into account when making decisions around resourcing and funding.\n",
    "\n",
    "To find the features which deemed statistically significant to prediction of the target, the function `ml.fresh.significantfeatures` from the machine learning toolkit is used. The top 15 features in both the monthly and time to peak models are found here using `ml.fresh.ksigfeat[x]`.\n",
    "\n",
    "The cell below defines some functionality used for the evaluation of both models:"
   ]
  },
  {
   "cell_type": "code",
   "execution_count": 39,
   "metadata": {},
   "outputs": [],
   "source": [
    "title:{\"The top 15 significant features for \",x,\" predictions are:\"}\n",
    "nums :{string[1+til x],'x#enlist\". \"}\n",
    "kfeat:.ml.fresh.ksigfeat 15"
   ]
  },
  {
   "cell_type": "markdown",
   "metadata": {},
   "source": [
    "#### Monthly Model"
   ]
  },
  {
   "cell_type": "code",
   "execution_count": 40,
   "metadata": {},
   "outputs": [
    {
     "data": {
      "text/plain": [
       "\"The top 15 significant features for monthly predictions are:\"\n"
      ]
     },
     "execution_count": 40,
     "metadata": {},
     "output_type": "execute_result"
    },
    {
     "data": {
      "text/plain": [
       "1. lagged_target_all     2. window_ppt_1          3. window_ppt_2        \n",
       "4. window_ppt_3          5. window_ppt_4          6. window_ppt_5        \n",
       "7. window_ppt_6          8. window_upstr_ppt_1_1  9. window_upstr_ppt_1_2\n",
       "10. window_upstr_ppt_1_3 11. window_upstr_ppt_1_4 12. lagged_target_1    \n",
       "13. lagged_target_12     14. window_upstr_ppt_1_5 15. window_ppt_7       \n"
      ]
     },
     "execution_count": 40,
     "metadata": {},
     "output_type": "execute_result"
    }
   ],
   "source": [
    "title[\"monthly\"]\n",
    "X_Month:flip forecast[`M]!cleaned_monthly[forecast[`M]]\n",
    "y_Month:cleaned_monthly`target\n",
    "3 cut`$nums[15],'string .ml.fresh.significantfeatures[X_Month;y_Month;kfeat]"
   ]
  },
  {
   "cell_type": "markdown",
   "metadata": {},
   "source": [
    "#### Time to Peak Model"
   ]
  },
  {
   "cell_type": "code",
   "execution_count": 41,
   "metadata": {},
   "outputs": [
    {
     "data": {
      "text/plain": [
       "\"The top 15 significant features for time-peak predictions are:\"\n"
      ]
     },
     "execution_count": 41,
     "metadata": {},
     "output_type": "execute_result"
    },
    {
     "data": {
      "text/plain": [
       "1. WsAreaSqKmRp100       2. WsAreaSqKm            3. window_prev_height_48\n",
       "4. prev_upstr_height_1_1 5. window_prev_height_12 6. prev_height_1        \n",
       "7. WetIndexCat           8. prev_height_5         9. prev_height_4        \n",
       "10. prev_height_6        11. prev_height_7        12. prev_height_2       \n",
       "13. window_prev_height_4 14. prev_height_8        15. prev_height_3       \n"
      ]
     },
     "execution_count": 41,
     "metadata": {},
     "output_type": "execute_result"
    }
   ],
   "source": [
    "title[\"time-peak\"]\n",
    "X_t2p:flip forecast[`P]!cleaned_peak[forecast[`P]]\n",
    "y_t2p:cleaned_peak`target\n",
    "3 cut`$nums[15],'string .ml.fresh.significantfeatures[X_t2p;y_t2p;kfeat]"
   ]
  },
  {
   "cell_type": "markdown",
   "metadata": {},
   "source": [
    "## Graphics "
   ]
  },
  {
   "cell_type": "markdown",
   "metadata": {},
   "source": [
    "#### Monthly Model"
   ]
  },
  {
   "cell_type": "markdown",
   "metadata": {},
   "source": [
    "Using these results, it is also possible to build a map highlighting which areas are likely to be at risk of flooding on a month to month basis. This could be used by governmental bodies to prioritize funding in the coming weeks."
   ]
  },
  {
   "cell_type": "code",
   "execution_count": 42,
   "metadata": {},
   "outputs": [
    {
     "data": {
      "application/vnd.jupyter.widget-view+json": {
       "model_id": "271c63385aa6441e9bffbfc21c5f5741",
       "version_major": 2,
       "version_minor": 0
      },
      "text/plain": [
       "VBox(children=(HBox(children=(IntSlider(value=1, continuous_update=False, description='Months 2018', max=12, m…"
      ]
     },
     "metadata": {},
     "output_type": "display_data"
    }
   ],
   "source": [
    "preds:last pltP1`model\n",
    "newtst:update preds:preds from XtestMi\n",
    "newt:select from newtst where date within 2018.01 2018.12m,preds=1\n",
    "dfnew:.ml.tab2df newt\n",
    "graphs:.p.get`AcledExplorer\n",
    "graphs[`df pykw dfnew][`:render][];"
   ]
  },
  {
   "cell_type": "markdown",
   "metadata": {},
   "source": [
    "**Note**\n",
    "\n",
    "For clarity this uses a python function contained in the file `../code/graphics.p` from this directory. The use of interactive widgets in a JupyterQ through embedPy is limited in scope. More information and examples on using widgets in JupyterQ can be found on https://github.com/KxSystems/jupyterq/blob/master/examples/q_widgets.ipynb"
   ]
  },
  {
   "cell_type": "markdown",
   "metadata": {},
   "source": [
    "#### Time to Peak Model"
   ]
  },
  {
   "cell_type": "markdown",
   "metadata": {},
   "source": [
    "Given the information that has been extracted from above, a comparison between the predicted time that a stream will reach it's peak height is compared to the actual time of the peak height event. This is shown in the graphic below."
   ]
  },
  {
   "cell_type": "code",
   "execution_count": 43,
   "metadata": {},
   "outputs": [
    {
     "data": {
      "image/png": "[encoded data removed]",
      "text/plain": [
       "<Figure size 460.8x345.6 with 1 Axes>"
      ]
     },
     "metadata": {},
     "output_type": "display_data"
    }
   ],
   "source": [
    "// The predictions for the ungauged model are extracted\n",
    "pred:last pltU2`model\n",
    "\n",
    "// For a specific site the start, peak and end times of an produced\n",
    "pg:raze select site_no,start_time,end_time,peak_time from XtrainPi \n",
    "    where unk=`EDT,i in where pred=XtestPi`target,site_no=`02164110,\n",
    "    target=1,delta_peak>2\n",
    "\n",
    "// Define the parameters to be taken into account in plotting\n",
    "rainfall   :`x_val`col`title!(pg[`start_time];`r;`rainfall)\n",
    "actual_peak:`x_val`col`title!(pg[`peak_time];`g;`actual_peak)\n",
    "pred_bound :`x_val`col`title!(03:30+pg[`start_time];`black;`predicted_upper_bound)\n",
    "\n",
    "// The relevant information for each site at the time of a major rainfall event is extracted\n",
    "graph:select from str where date within (`date$pg[`start_time];`date$pg[`end_time]), datetime\n",
    "      within (neg[00:15]+pg[`start_time];[00:10]+pg[`end_time]),(pg`site_no)=`$site_no\n",
    "\n",
    "// The stream height is plotted as a function of time\n",
    "times  :graph`datetime\n",
    "heights:graph`height\n",
    "plt_params:`label`linewidth!(`height;3)\n",
    "plt[`:plot][times;heights;pykwargs plt_params];\n",
    "\n",
    "// Lines indicating relevant events are plotted\n",
    "pltline:{\n",
    "  dict:`color`label`linewidth!(x`col;x`title;3);\n",
    "  plt[`:axvline][x`x_val;pykwargs dict];}\n",
    "\n",
    "pltline each(rainfall;actual_peak;pred_bound);\n",
    "\n",
    "plt[`:legend][`loc pykw `best];\n",
    "plt[`:title][\"Time to Peak\"];\n",
    "plt[`:ylabel][\"Height\"];\n",
    "plt[`:xlabel][\"Time\"];\n",
    "plt[`:xticks][()];\n",
    "plt[`:show][];"
   ]
  },
  {
   "cell_type": "markdown",
   "metadata": {},
   "source": [
    "## Conclusion"
   ]
  },
  {
   "cell_type": "markdown",
   "metadata": {},
   "source": [
    "From the above results we could predict, with relatively high accuracy, whether an area was likely to flood or not in the next month. We could also produce a model to predict if a stream would reach its peak height within 3.5 hours.\n",
    "\n",
    "For the monthly models, the future weather predictions played an important role in predicting whether an area would flood or not. Accuracy increased as the weather predictions and gauged information columns were added to the dataset. This corresponds with the results from the significant feature tests, where lagged_target information and the windowed rain volumes of the current month were deemed to be the most features for inclusion. For the majority of the models, the random forests classifier obtained high accuracy results, however this often coincided with imbalanced precision and recall scores. In some scenarios, high precision scores were achieved along with corresponding low recall, indicating that flooding events could be missed. Although XGBoosts didn't achieve as high accuracy, the precision and recall scores were much more balanced which is a favourable trait to have in this type of model when predicting complex events such as flooding. \n",
    "\n",
    "The opposite was true for the time to peak models, as previous rain and stream gauge information along with the basin characteristics were deemed to be the most significant features when predicting these values. Including additional information about the future predicted rainfall did not improve the accuracy of the results. The best results were obtained from the gauged model by the XGBoost classifier. Despite this, the perfect forecasts dataset achieved the best balance between the precision and recall of the positive class, compared with the ungauged model that favoured high precision alongside low recall scores. \n",
    "\n",
    "Both of these results are to be physically expected. In the case of the monthly prediction, information regarding future rainfall information is vital to predicting if an area will flood in the next month. Whereas in the case of a time to peak value, it would extremely unlikely that information about rainfall in the days following the peak height being reached would add any predictive power to the model.\n",
    "\n",
    "Knowing the features that contribute to flood susceptibility and the length of time it takes for a river to reach its peak height, are important pieces of information to extract from the model. From this, organizations such as USGS can better prepare for flood events and understand how changing climates and placement of impervious surface can affect the likelihood of flooding.\n",
    "\n",
    "The best results from the models above were obtained by continuously adjusting the hyper-parameters of the model. The unbalanced target data in the monthly model, meant that weighting the classes was an important feature to experiment with. This was particularly important when trying to obtain high precision and recall results. Between the two models, balance in the recall and precision was better for the XGBoost model."
   ]
  },
  {
   "cell_type": "markdown",
   "metadata": {},
   "source": [
    "---"
   ]
  }
 ],
 "metadata": {
  "kernelspec": {
   "display_name": "Q (kdb+)",
   "language": "q",
   "name": "qpk"
  },
  "language_info": {
   "file_extension": ".q",
   "mimetype": "text/x-q",
   "name": "q",
   "version": "3.6.0"
  },
  "widgets": {
   "application/vnd.jupyter.widget-state+json": {
    "state": {
     "03ef9a6cc8a94ef98a92f8d2bb092616": {
      "model_module": "@jupyter-widgets/base",
      "model_module_version": "1.0.0",
      "model_name": "LayoutModel",
      "state": {
       "height": "100%",
       "width": "100%"
      }
     },
     "04584f4232c04fe38a5f9e2e3338e2c7": {
      "model_module": "jupyter-gmaps",
      "model_module_version": "0.9.0",
      "model_name": "ErrorsBoxModel",
      "state": {
       "layout": "IPY_MODEL_cb054ce976bd4612b0f7b3a08fc4d7d7"
      }
     },
     "0c85c702c1fd4b08a53740a01ee2901d": {
      "model_module": "@jupyter-widgets/base",
      "model_module_version": "1.0.0",
      "model_name": "LayoutModel",
      "state": {
       "justify_content": "space-between"
      }
     },
     "120958c2318746d2b829f9021cff20ed": {
      "model_module": "@jupyter-widgets/controls",
      "model_module_version": "1.2.0",
      "model_name": "DescriptionStyleModel",
      "state": {
       "description_width": ""
      }
     },
     "28cd96e71e034ffbb63c0bb56e82f879": {
      "model_module": "jupyter-gmaps",
      "model_module_version": "0.9.0",
      "model_name": "ToolbarModel",
      "state": {
       "layout": "IPY_MODEL_c46390ec53c04f3cab0c86e0089a7b42"
      }
     },
     "2f885d1d51214d3b890bde3448615188": {
      "model_module": "@jupyter-widgets/base",
      "model_module_version": "1.0.0",
      "model_name": "LayoutModel",
      "state": {}
     },
     "30685961d3cf47ce86638fcb3d567d47": {
      "model_module": "jupyter-gmaps",
      "model_module_version": "0.9.0",
      "model_name": "SimpleHeatmapLayerModel",
      "state": {
       "data_bounds": [
        [
         31.96839,
         -81.79518
        ],
        [
         48.43035,
         -72.5455
        ]
       ],
       "dissipating": true,
       "gradient": null,
       "locations": [
        [
         43.0689,
         -74.9883
        ],
        [
         40.5019,
         -74.7425
        ],
        [
         40.5469,
         -74.6964
        ],
        [
         42.1661,
         -75.14
        ],
        [
         42.0353,
         -75.8031
        ],
        [
         42.4417,
         -75.5964
        ],
        [
         42.6028,
         -76.1594
        ],
        [
         42.0908,
         -76.0561
        ],
        [
         37.4363,
         -77.0608
        ],
        [
         33.9127,
         -78.715
        ],
        [
         34.1574,
         -79.5534
        ],
        [
         33.661,
         -79.1545
        ],
        [
         34.0446,
         -81.697
        ],
        [
         32.9835,
         -79.9229
        ],
        [
         33.7293,
         -82.1818
        ],
        [
         42.8547,
         -78.755
        ],
        [
         42.89,
         -78.645
        ],
        [
         43.0922,
         -77.6803
        ],
        [
         43.1006,
         -77.8822
        ],
        [
         43.0278,
         -77.4781
        ],
        [
         44.8636,
         -74.7789
        ],
        [
         44.94,
         -74.5569
        ],
        [
         44.4374,
         -73.681
        ]
       ],
       "max_intensity": null,
       "opacity": 0.6,
       "point_radius": null
      }
     },
     "36bcd9759ee74e34af7a89f1cc6c8cf7": {
      "model_module": "@jupyter-widgets/base",
      "model_module_version": "1.0.0",
      "model_name": "LayoutModel",
      "state": {}
     },
     "38cd36a741744634aaf637d5ecc5bcf8": {
      "model_module": "jupyter-gmaps",
      "model_module_version": "0.9.0",
      "model_name": "ErrorsBoxModel",
      "state": {
       "layout": "IPY_MODEL_36bcd9759ee74e34af7a89f1cc6c8cf7"
      }
     },
     "41099e176a5f44cca842477310c44e0b": {
      "model_module": "@jupyter-widgets/controls",
      "model_module_version": "1.2.0",
      "model_name": "LabelModel",
      "state": {
       "layout": "IPY_MODEL_2f885d1d51214d3b890bde3448615188",
       "style": "IPY_MODEL_e083b1b3b1fe40f59ad32ce25159a98f",
       "value": "23 Floods Predicted"
      }
     },
     "41653788986d4666a506866b3826e3c3": {
      "model_module": "@jupyter-widgets/base",
      "model_module_version": "1.0.0",
      "model_name": "LayoutModel",
      "state": {
       "height": "420px"
      }
     },
     "43827b94505d41d991f465a69c19364e": {
      "model_module": "@jupyter-widgets/base",
      "model_module_version": "1.0.0",
      "model_name": "LayoutModel",
      "state": {
       "height": "420px"
      }
     },
     "4ed6c1db696c460da8f1e9080b99c70a": {
      "model_module": "@jupyter-widgets/base",
      "model_module_version": "1.0.0",
      "model_name": "LayoutModel",
      "state": {
       "height": "100%",
       "width": "100%"
      }
     },
     "505fb0575e4f4d679e0bddaa07ff73f6": {
      "model_module": "@jupyter-widgets/controls",
      "model_module_version": "1.2.0",
      "model_name": "SliderStyleModel",
      "state": {
       "description_width": ""
      }
     },
     "51d48fe45a9f4c398f7366e0c7919fe6": {
      "model_module": "@jupyter-widgets/base",
      "model_module_version": "1.0.0",
      "model_name": "LayoutModel",
      "state": {}
     },
     "5542ff0bf8094daabfc1d7ed05cce75e": {
      "model_module": "@jupyter-widgets/controls",
      "model_module_version": "1.2.0",
      "model_name": "HBoxModel",
      "state": {
       "children": [
        "IPY_MODEL_8a398269c9ff4c94af0cd31d246cc22b",
        "IPY_MODEL_7321dc6b3d3b42bcb15a0206737dae2b"
       ],
       "layout": "IPY_MODEL_0c85c702c1fd4b08a53740a01ee2901d"
      }
     },
     "62aab1b4053b4a89b9de1edf379f46ea": {
      "model_module": "@jupyter-widgets/controls",
      "model_module_version": "1.2.0",
      "model_name": "HBoxModel",
      "state": {
       "children": [
        "IPY_MODEL_857d35bec62e4b219e0780a2fd29a008",
        "IPY_MODEL_41099e176a5f44cca842477310c44e0b"
       ],
       "layout": "IPY_MODEL_921781eead13448ba2fd0a9bd943295b"
      }
     },
     "670db6fa599b4dd8b908a25975261fce": {
      "model_module": "jupyter-gmaps",
      "model_module_version": "0.9.0",
      "model_name": "FigureModel",
      "state": {
       "_errors_box": "IPY_MODEL_38cd36a741744634aaf637d5ecc5bcf8",
       "_map": "IPY_MODEL_c31b2674cc1149808013480ca181c1d6",
       "_toolbar": "IPY_MODEL_b2dd0d572639478896d0ea06f4fd6695",
       "layout": "IPY_MODEL_43827b94505d41d991f465a69c19364e"
      }
     },
     "6d86f1b71b88441294f6f3c095ca8608": {
      "model_module": "@jupyter-widgets/controls",
      "model_module_version": "1.2.0",
      "model_name": "SliderStyleModel",
      "state": {
       "description_width": ""
      }
     },
     "7321dc6b3d3b42bcb15a0206737dae2b": {
      "model_module": "@jupyter-widgets/controls",
      "model_module_version": "1.2.0",
      "model_name": "LabelModel",
      "state": {
       "layout": "IPY_MODEL_ea1cf27f469a44fe86dc28a31b183002",
       "style": "IPY_MODEL_120958c2318746d2b829f9021cff20ed",
       "value": "23 Floods Predicted"
      }
     },
     "857d35bec62e4b219e0780a2fd29a008": {
      "model_module": "@jupyter-widgets/controls",
      "model_module_version": "1.2.0",
      "model_name": "IntSliderModel",
      "state": {
       "continuous_update": false,
       "description": "Months 2018",
       "layout": "IPY_MODEL_ffaf79843fa44dd58cbab3a11dc045b5",
       "max": 12,
       "min": 1,
       "style": "IPY_MODEL_6d86f1b71b88441294f6f3c095ca8608",
       "value": 1
      }
     },
     "8a398269c9ff4c94af0cd31d246cc22b": {
      "model_module": "@jupyter-widgets/controls",
      "model_module_version": "1.2.0",
      "model_name": "IntSliderModel",
      "state": {
       "continuous_update": false,
       "description": "Months 2018",
       "layout": "IPY_MODEL_ba97563fe8874815b3f5e390fc66e9b1",
       "max": 12,
       "min": 1,
       "style": "IPY_MODEL_505fb0575e4f4d679e0bddaa07ff73f6",
       "value": 1
      }
     },
     "921781eead13448ba2fd0a9bd943295b": {
      "model_module": "@jupyter-widgets/base",
      "model_module_version": "1.0.0",
      "model_name": "LayoutModel",
      "state": {
       "justify_content": "space-between"
      }
     },
     "9428d1f0cda7472ba72063dedd007537": {
      "model_module": "jupyter-gmaps",
      "model_module_version": "0.9.0",
      "model_name": "SimpleHeatmapLayerModel",
      "state": {
       "data_bounds": [
        [
         31.96839,
         -81.79518
        ],
        [
         48.43035,
         -72.5455
        ]
       ],
       "dissipating": true,
       "gradient": null,
       "locations": [
        [
         43.0689,
         -74.9883
        ],
        [
         40.5019,
         -74.7425
        ],
        [
         40.5469,
         -74.6964
        ],
        [
         42.1661,
         -75.14
        ],
        [
         42.0353,
         -75.8031
        ],
        [
         42.4417,
         -75.5964
        ],
        [
         42.6028,
         -76.1594
        ],
        [
         42.0908,
         -76.0561
        ],
        [
         37.4363,
         -77.0608
        ],
        [
         33.9127,
         -78.715
        ],
        [
         34.1574,
         -79.5534
        ],
        [
         33.661,
         -79.1545
        ],
        [
         34.0446,
         -81.697
        ],
        [
         32.9835,
         -79.9229
        ],
        [
         33.7293,
         -82.1818
        ],
        [
         42.8547,
         -78.755
        ],
        [
         42.89,
         -78.645
        ],
        [
         43.0922,
         -77.6803
        ],
        [
         43.1006,
         -77.8822
        ],
        [
         43.0278,
         -77.4781
        ],
        [
         44.8636,
         -74.7789
        ],
        [
         44.94,
         -74.5569
        ],
        [
         44.4374,
         -73.681
        ]
       ],
       "max_intensity": null,
       "opacity": 0.6,
       "point_radius": null
      }
     },
     "a4632b3c44cb4744b5c517c6f7dd9f7e": {
      "model_module": "jupyter-gmaps",
      "model_module_version": "0.9.0",
      "model_name": "FigureModel",
      "state": {
       "_errors_box": "IPY_MODEL_04584f4232c04fe38a5f9e2e3338e2c7",
       "_map": "IPY_MODEL_f11bf74701974f54ba294e5701428900",
       "_toolbar": "IPY_MODEL_28cd96e71e034ffbb63c0bb56e82f879",
       "layout": "IPY_MODEL_41653788986d4666a506866b3826e3c3"
      }
     },
     "b2dd0d572639478896d0ea06f4fd6695": {
      "model_module": "jupyter-gmaps",
      "model_module_version": "0.9.0",
      "model_name": "ToolbarModel",
      "state": {
       "layout": "IPY_MODEL_51d48fe45a9f4c398f7366e0c7919fe6"
      }
     },
     "b3ee047e6efc4739a12703b59ddd2d3d": {
      "model_module": "@jupyter-widgets/controls",
      "model_module_version": "1.2.0",
      "model_name": "VBoxModel",
      "state": {
       "children": [
        "IPY_MODEL_62aab1b4053b4a89b9de1edf379f46ea",
        "IPY_MODEL_a4632b3c44cb4744b5c517c6f7dd9f7e"
       ],
       "layout": "IPY_MODEL_cbbe3221cd604ac4b52c49d35274f59e"
      }
     },
     "ba97563fe8874815b3f5e390fc66e9b1": {
      "model_module": "@jupyter-widgets/base",
      "model_module_version": "1.0.0",
      "model_name": "LayoutModel",
      "state": {}
     },
     "c31b2674cc1149808013480ca181c1d6": {
      "model_module": "jupyter-gmaps",
      "model_module_version": "0.9.0",
      "model_name": "PlainmapModel",
      "state": {
       "configuration": {
        "api_key": null
       },
       "data_bounds": [
        [
         31.96839,
         -81.79518
        ],
        [
         48.43035,
         -72.5455
        ]
       ],
       "layers": [
        "IPY_MODEL_30685961d3cf47ce86638fcb3d567d47"
       ],
       "layout": "IPY_MODEL_4ed6c1db696c460da8f1e9080b99c70a",
       "map_type": "HYBRID",
       "tilt": 45
      }
     },
     "c46390ec53c04f3cab0c86e0089a7b42": {
      "model_module": "@jupyter-widgets/base",
      "model_module_version": "1.0.0",
      "model_name": "LayoutModel",
      "state": {}
     },
     "c80fc97f7c0e48319100ba65715b154a": {
      "model_module": "@jupyter-widgets/controls",
      "model_module_version": "1.2.0",
      "model_name": "VBoxModel",
      "state": {
       "children": [
        "IPY_MODEL_5542ff0bf8094daabfc1d7ed05cce75e",
        "IPY_MODEL_670db6fa599b4dd8b908a25975261fce"
       ],
       "layout": "IPY_MODEL_c81bc0d574874ca7a7b0e4daded9f92b"
      }
     },
     "c81bc0d574874ca7a7b0e4daded9f92b": {
      "model_module": "@jupyter-widgets/base",
      "model_module_version": "1.0.0",
      "model_name": "LayoutModel",
      "state": {}
     },
     "cb054ce976bd4612b0f7b3a08fc4d7d7": {
      "model_module": "@jupyter-widgets/base",
      "model_module_version": "1.0.0",
      "model_name": "LayoutModel",
      "state": {}
     },
     "cbbe3221cd604ac4b52c49d35274f59e": {
      "model_module": "@jupyter-widgets/base",
      "model_module_version": "1.0.0",
      "model_name": "LayoutModel",
      "state": {}
     },
     "e083b1b3b1fe40f59ad32ce25159a98f": {
      "model_module": "@jupyter-widgets/controls",
      "model_module_version": "1.2.0",
      "model_name": "DescriptionStyleModel",
      "state": {
       "description_width": ""
      }
     },
     "ea1cf27f469a44fe86dc28a31b183002": {
      "model_module": "@jupyter-widgets/base",
      "model_module_version": "1.0.0",
      "model_name": "LayoutModel",
      "state": {}
     },
     "f11bf74701974f54ba294e5701428900": {
      "model_module": "jupyter-gmaps",
      "model_module_version": "0.9.0",
      "model_name": "PlainmapModel",
      "state": {
       "configuration": {
        "api_key": null
       },
       "data_bounds": [
        [
         31.96839,
         -81.79518
        ],
        [
         48.43035,
         -72.5455
        ]
       ],
       "layers": [
        "IPY_MODEL_9428d1f0cda7472ba72063dedd007537"
       ],
       "layout": "IPY_MODEL_03ef9a6cc8a94ef98a92f8d2bb092616",
       "map_type": "HYBRID",
       "tilt": 45
      }
     },
     "ffaf79843fa44dd58cbab3a11dc045b5": {
      "model_module": "@jupyter-widgets/base",
      "model_module_version": "1.0.0",
      "model_name": "LayoutModel",
      "state": {}
     }
    },
    "version_major": 2,
    "version_minor": 0
   }
  }
 },
 "nbformat": 4,
 "nbformat_minor": 2
}
